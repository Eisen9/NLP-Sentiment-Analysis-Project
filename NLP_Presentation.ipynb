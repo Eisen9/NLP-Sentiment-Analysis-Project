{
  "nbformat": 4,
  "nbformat_minor": 0,
  "metadata": {
    "colab": {
      "provenance": []
    },
    "kernelspec": {
      "name": "python3",
      "display_name": "Python 3"
    },
    "language_info": {
      "name": "python"
    }
  },
  "cells": [
    {
      "cell_type": "markdown",
      "source": [
        "# Block 1: Install Necessary Libraries\n",
        "\n",
        "This cell installs the 'nltk' (Natural Language Toolkit) and 'textblob' libraries,\n",
        "which are essential for performing various NLP tasks. 'nltk' provides datasets and\n",
        "utilities for processing human language data, while 'textblob' is a simple library\n",
        "for processing textual data and performing tasks such as part-of-speech tagging,\n",
        "noun phrase extraction, sentiment analysis, and more.\n"
      ],
      "metadata": {
        "id": "4LH1us5oNvow"
      }
    },
    {
      "cell_type": "code",
      "source": [
        "# Install necessary libraries\n",
        "!pip install nltk textblob\n"
      ],
      "metadata": {
        "colab": {
          "base_uri": "https://localhost:8080/"
        },
        "id": "JA8_P39KMMM5",
        "outputId": "135b0394-900b-4885-ef87-2c8ef9f7d62c"
      },
      "execution_count": null,
      "outputs": [
        {
          "output_type": "stream",
          "name": "stdout",
          "text": [
            "Requirement already satisfied: nltk in /usr/local/lib/python3.10/dist-packages (3.8.1)\n",
            "Requirement already satisfied: textblob in /usr/local/lib/python3.10/dist-packages (0.17.1)\n",
            "Requirement already satisfied: click in /usr/local/lib/python3.10/dist-packages (from nltk) (8.1.7)\n",
            "Requirement already satisfied: joblib in /usr/local/lib/python3.10/dist-packages (from nltk) (1.4.2)\n",
            "Requirement already satisfied: regex>=2021.8.3 in /usr/local/lib/python3.10/dist-packages (from nltk) (2024.5.15)\n",
            "Requirement already satisfied: tqdm in /usr/local/lib/python3.10/dist-packages (from nltk) (4.66.4)\n"
          ]
        }
      ]
    },
    {
      "cell_type": "markdown",
      "source": [
        "# Block 2: Import Libraries and Download Data\n",
        "\n",
        "In this cell, we import the necessary libraries: 'nltk' for NLP tasks, 'TextBlob'\n",
        "for text processing and sentiment analysis, and 'random' for shuffling our data.\n",
        "Additionally, we download the 'movie_reviews' dataset and the 'punkt' tokenizer\n",
        "from the NLTK library. The 'movie_reviews' dataset contains labeled movie reviews\n",
        "that we will use to train and test our sentiment analysis model, and 'punkt' is\n",
        "a pre-trained tokenizer that helps in breaking down text into sentences and words.\n"
      ],
      "metadata": {
        "id": "XECsejaBN_OA"
      }
    },
    {
      "cell_type": "code",
      "source": [
        "# Import libraries\n",
        "import nltk\n",
        "from textblob import TextBlob\n",
        "from nltk.corpus import movie_reviews\n",
        "import random\n",
        "\n",
        "# Download required NLTK data\n",
        "nltk.download('movie_reviews')\n",
        "nltk.download('punkt')\n"
      ],
      "metadata": {
        "colab": {
          "base_uri": "https://localhost:8080/"
        },
        "id": "IGPNdKwIMOvp",
        "outputId": "e1e0d231-60ac-4720-aafd-e697c73366fd"
      },
      "execution_count": null,
      "outputs": [
        {
          "output_type": "stream",
          "name": "stderr",
          "text": [
            "[nltk_data] Downloading package movie_reviews to /root/nltk_data...\n",
            "[nltk_data]   Unzipping corpora/movie_reviews.zip.\n",
            "[nltk_data] Downloading package punkt to /root/nltk_data...\n",
            "[nltk_data]   Unzipping tokenizers/punkt.zip.\n"
          ]
        },
        {
          "output_type": "execute_result",
          "data": {
            "text/plain": [
              "True"
            ]
          },
          "metadata": {},
          "execution_count": 2
        }
      ]
    },
    {
      "cell_type": "markdown",
      "source": [
        "# Block 3: Load and Shuffle Dataset\n",
        "\n",
        "Here, we load the 'movie_reviews' dataset from NLTK, which consists of positive\n",
        "and negative movie reviews. Each review is labeled as either 'pos' (positive) or\n",
        "'neg' (negative). We then create a list of documents where each document is a tuple\n",
        "containing a list of words from a review and its corresponding label. After that,\n",
        "we shuffle the documents to mix positive and negative reviews randomly, ensuring\n",
        "that our model gets a balanced mix of both sentiments during training and testing.\n"
      ],
      "metadata": {
        "id": "yNYRZXJoOJYW"
      }
    },
    {
      "cell_type": "code",
      "source": [
        "# Load movie reviews dataset\n",
        "documents = [(list(movie_reviews.words(fileid)), category)\n",
        "             for category in movie_reviews.categories()\n",
        "             for fileid in movie_reviews.fileids(category)]\n",
        "\n",
        "# Shuffle the documents to mix positive and negative reviews\n",
        "random.shuffle(documents)\n"
      ],
      "metadata": {
        "id": "hSpDe9liMYvG"
      },
      "execution_count": null,
      "outputs": []
    },
    {
      "cell_type": "markdown",
      "source": [
        "# Block 4: Sentiment Classification Function\n",
        "\n",
        "This cell defines the 'classify_review' function, which takes a review as input,\n",
        "processes it using the 'TextBlob' library, and classifies its sentiment as either\n",
        "'Positive' or 'Negative'. The function joins the list of words into a single string,\n",
        "creates a TextBlob object, and analyzes the sentiment polarity of the text.\n",
        "If the polarity is greater than 0, the sentiment is classified as 'Positive';\n",
        "otherwise, it is classified as 'Negative'.\n"
      ],
      "metadata": {
        "id": "12yERi45OQfF"
      }
    },
    {
      "cell_type": "code",
      "source": [
        "# Function to classify review sentiment\n",
        "def classify_review(review):\n",
        "    analysis = TextBlob(' '.join(review))\n",
        "    # Classify sentiment as positive or negative\n",
        "    if analysis.sentiment.polarity > 0:\n",
        "        return 'Positive'\n",
        "    else:\n",
        "        return 'Negative'\n"
      ],
      "metadata": {
        "id": "4sdJwhpgMbyJ"
      },
      "execution_count": null,
      "outputs": []
    },
    {
      "cell_type": "markdown",
      "source": [
        "# Block 5: Test with Movie Reviews Dataset\n",
        "\n",
        "In this cell, we select a sample of reviews from our shuffled dataset to test\n",
        "the sentiment classification function. We take the first 5 reviews from the dataset,\n",
        "print the first 50 words of each review, display the actual sentiment label (positive\n",
        "or negative), and predict the sentiment using our 'classify_review' function.\n",
        "This allows us to evaluate the performance of our sentiment analysis model\n",
        "on a few sample reviews.\n"
      ],
      "metadata": {
        "id": "RTb4PmBYOXxZ"
      }
    },
    {
      "cell_type": "code",
      "source": [
        "# Testing with movie reviews dataset\n",
        "sample_reviews = documents[:5]\n",
        "for review, category in sample_reviews:\n",
        "    print(f\"Review: {' '.join(review[:50])}...\")\n",
        "    print(f\"Actual Sentiment: {category.capitalize()}\")\n",
        "    print(f\"Predicted Sentiment: {classify_review(review)}\\n\")\n"
      ],
      "metadata": {
        "colab": {
          "base_uri": "https://localhost:8080/"
        },
        "id": "Jxc9bfV3Mi2u",
        "outputId": "55f9831f-77b0-4b2e-9e2d-3cb7762bd909"
      },
      "execution_count": null,
      "outputs": [
        {
          "output_type": "stream",
          "name": "stdout",
          "text": [
            "Review: a sensuous romantic comedy , about as appealing as your average lightweight tv sitcom . there is no special ingredient on the menu for what is dished out , its the kind of stuff i ' ve seen before and was made nauseous by its silly idea of love and...\n",
            "Actual Sentiment: Neg\n",
            "Predicted Sentiment: Positive\n",
            "\n",
            "Review: movies about teenagers and teenage culture rarely prove to be either interesting , entertaining or convincing , because of one fundamental reason : movies are made by adults and not teenagers . occasionally , however , films like say anything , dazed and confused and the breakfast club will break...\n",
            "Actual Sentiment: Neg\n",
            "Predicted Sentiment: Negative\n",
            "\n",
            "Review: one of the more unusual and suggestively violent films ever made , \" se7en \" is just a few steps away from brilliance . however , those few steps away are only a few steps from a level of evil and depravity that few people want to discuss . the...\n",
            "Actual Sentiment: Pos\n",
            "Predicted Sentiment: Positive\n",
            "\n",
            "Review: hollywood has really done the whole dracula thing to death ( no pun intended - honest ) . it ' s a shame , too , because the good count was probably the most frightening out the old b - movie monsters . i mean , come on . are...\n",
            "Actual Sentiment: Pos\n",
            "Predicted Sentiment: Positive\n",
            "\n",
            "Review: note : some may consider portions of the following text to be spoilers . be forewarned . on december 20 , 1996 , amidst all the year - end oscar bait releases from the major studios , miramax ' s genre label dimension films quietly released a sly little ensemble...\n",
            "Actual Sentiment: Pos\n",
            "Predicted Sentiment: Positive\n",
            "\n"
          ]
        }
      ]
    },
    {
      "cell_type": "markdown",
      "source": [
        "# Block 6: Interactive Sentiment Analysis Function\n",
        "\n",
        "This cell defines an interactive function 'interactive_sentiment_analysis' that\n",
        "allows users to input their own movie reviews and get instant sentiment analysis\n",
        "results. The function prompts the user to enter a movie review, processes the input\n",
        "using the 'TextBlob' library, and prints whether the sentiment is 'Positive' or 'Negative'.\n",
        "The loop continues until the user types 'exit' to quit the interactive session.\n"
      ],
      "metadata": {
        "id": "eoK0AFC8OfjP"
      }
    },
    {
      "cell_type": "code",
      "source": [
        "# Interactive function to test sentiment analysis\n",
        "def interactive_sentiment_analysis():\n",
        "    print(\"Interactive Sentiment Analysis on Movie Reviews\")\n",
        "    print(\"Type 'exit' to quit\\n\")\n",
        "    while True:\n",
        "        user_input = input(\"Enter a movie review: \")\n",
        "        if user_input.lower() == 'exit':\n",
        "            break\n",
        "        analysis = TextBlob(user_input)\n",
        "        sentiment = 'Positive' if analysis.sentiment.polarity > 0 else 'Negative'\n",
        "        print(f\"Sentiment: {sentiment}\\n\")\n"
      ],
      "metadata": {
        "id": "oXQiRkOJMpmh"
      },
      "execution_count": null,
      "outputs": []
    },
    {
      "cell_type": "markdown",
      "source": [
        "# Block 7: Run Interactive Sentiment Analysis\n",
        "\n",
        "Finally, we run the 'interactive_sentiment_analysis' function to start the exercise.\n",
        "This will prompt the user to enter movie reviews in the Colab notebook's output cell\n",
        "and provide sentiment analysis results for each input. This hands-on activity\n",
        "demonstrates how NLP and sentiment analysis work in a practical and interactive manner.\n"
      ],
      "metadata": {
        "id": "5DZxUkmROs5N"
      }
    },
    {
      "cell_type": "code",
      "source": [
        "# Run interactive sentiment analysis\n",
        "interactive_sentiment_analysis()\n"
      ],
      "metadata": {
        "colab": {
          "base_uri": "https://localhost:8080/"
        },
        "id": "Sk0ETwrSMvN6",
        "outputId": "0444d51b-b526-4163-eb46-180f1ab380d1"
      },
      "execution_count": null,
      "outputs": [
        {
          "name": "stdout",
          "output_type": "stream",
          "text": [
            "Interactive Sentiment Analysis on Movie Reviews\n",
            "Type 'exit' to quit\n",
            "\n",
            "Enter a movie review: I hate this movie\n",
            "Sentiment: Negative\n",
            "\n",
            "Enter a movie review: The movie was not too bad\n",
            "Sentiment: Negative\n",
            "\n",
            "Enter a movie review: it was okay\n",
            "Sentiment: Positive\n",
            "\n",
            "Enter a movie review: good enough\n",
            "Sentiment: Positive\n",
            "\n",
            "Enter a movie review: exit\n"
          ]
        }
      ]
    }
  ]
}